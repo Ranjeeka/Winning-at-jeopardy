{
 "cells": [
  {
   "cell_type": "markdown",
   "metadata": {
    "collapsed": true
   },
   "source": [
    "# Analyzing Jeoperdy questions for patterns #\n",
    "\n",
    "Jeopardy is a popular TV show in the US where participants answer questions to win money. It's been running for many years, and is a major force in popular culture. \n",
    "\n",
    "Imagine that you want to compete on Jeopardy, and you're looking for any way to win. In this project, you'll work with a dataset of Jeopardy questions to figure out some patterns in the questions that could help you win."
   ]
  },
  {
   "cell_type": "code",
   "execution_count": 94,
   "metadata": {
    "collapsed": false
   },
   "outputs": [
    {
     "name": "stdout",
     "output_type": "stream",
     "text": [
      "   Show Number    Air Date      Round                         Category  Value  \\\n",
      "0         4680  2004-12-31  Jeopardy!                          HISTORY   $200   \n",
      "1         4680  2004-12-31  Jeopardy!  ESPN's TOP 10 ALL-TIME ATHLETES   $200   \n",
      "2         4680  2004-12-31  Jeopardy!      EVERYBODY TALKS ABOUT IT...   $200   \n",
      "3         4680  2004-12-31  Jeopardy!                 THE COMPANY LINE   $200   \n",
      "4         4680  2004-12-31  Jeopardy!              EPITAPHS & TRIBUTES   $200   \n",
      "\n",
      "                                                                                                      Question  \\\n",
      "0             For the last 8 years of his life, Galileo was under house arrest for espousing this man's theory   \n",
      "1  No. 2: 1912 Olympian; football star at Carlisle Indian School; 6 MLB seasons with the Reds, Giants & Braves   \n",
      "2                     The city of Yuma in this state has a record average of 4,055 hours of sunshine each year   \n",
      "3                         In 1963, live on \"The Art Linkletter Show\", this company served its billionth burger   \n",
      "4     Signer of the Dec. of Indep., framer of the Constitution of Mass., second President of the United States   \n",
      "\n",
      "       Answer  \n",
      "0  Copernicus  \n",
      "1  Jim Thorpe  \n",
      "2     Arizona  \n",
      "3  McDonald's  \n",
      "4  John Adams  \n",
      "Index(['Show Number', ' Air Date', ' Round', ' Category', ' Value',\n",
      "       ' Question', ' Answer'],\n",
      "      dtype='object')\n"
     ]
    }
   ],
   "source": [
    "import pandas as pd\n",
    "jeopardy = pd.read_csv('jeopardy.csv')\n",
    "print(jeopardy.head(5))\n",
    "print(jeopardy.columns)"
   ]
  },
  {
   "cell_type": "code",
   "execution_count": 95,
   "metadata": {
    "collapsed": false
   },
   "outputs": [
    {
     "name": "stdout",
     "output_type": "stream",
     "text": [
      "Index(['Show Number', 'Air Date', 'Round', 'Category', 'Value', 'Question',\n",
      "       'Answer'],\n",
      "      dtype='object')\n"
     ]
    }
   ],
   "source": [
    "#Removing spaces from columns names\n",
    "columns = ['Show Number', 'Air Date', 'Round', 'Category', 'Value',\n",
    "       'Question', 'Answer']\n",
    "jeopardy.columns = columns\n",
    "print(jeopardy.columns)"
   ]
  },
  {
   "cell_type": "code",
   "execution_count": 96,
   "metadata": {
    "collapsed": false
   },
   "outputs": [
    {
     "data": {
      "text/plain": [
       "0               for the last 8 years of his life galileo was under house arrest for espousing this mans theory\n",
       "1    no 2: 1912 olympian; football star at carlisle indian school; 6 mlb seasons with the reds giants & braves\n",
       "2                      the city of yuma in this state has a record average of 4055 hours of sunshine each year\n",
       "3                             in 1963 live on the art linkletter show this company served its billionth burger\n",
       "4          signer of the dec of indep framer of the constitution of mass second president of the united states\n",
       "Name: Question, dtype: object"
      ]
     },
     "execution_count": 96,
     "metadata": {},
     "output_type": "execute_result"
    }
   ],
   "source": [
    "#normalizing text columns\n",
    "\n",
    "def norm_text(row):\n",
    "    lower = row.lower()\n",
    "    no_stops = lower.replace('.','')\n",
    "    no_comma = no_stops.replace(',','')\n",
    "    no_ap = no_comma.replace('\\'','')\n",
    "    no_q = no_ap.replace('\"','')\n",
    "    return no_q\n",
    "\n",
    "clean_question = jeopardy['Question'].apply(norm_text)\n",
    "clean_question.head(5)"
   ]
  },
  {
   "cell_type": "code",
   "execution_count": 97,
   "metadata": {
    "collapsed": false
   },
   "outputs": [
    {
     "data": {
      "text/plain": [
       "0    copernicus\n",
       "1    jim thorpe\n",
       "2       arizona\n",
       "3     mcdonalds\n",
       "4    john adams\n",
       "Name: Answer, dtype: object"
      ]
     },
     "execution_count": 97,
     "metadata": {},
     "output_type": "execute_result"
    }
   ],
   "source": [
    "clean_answer = jeopardy['Answer'].apply(norm_text)\n",
    "clean_answer.head(5)"
   ]
  },
  {
   "cell_type": "code",
   "execution_count": 98,
   "metadata": {
    "collapsed": false
   },
   "outputs": [],
   "source": [
    "#normalizing dollar values\n",
    "\n",
    "def norm_val(row):\n",
    "    no_p = row.replace('$','')\n",
    "    no_c = no_p.replace(',', '')\n",
    "    try:\n",
    "        num = int(no_c)\n",
    "    except:\n",
    "        num = 0\n",
    "    return num\n",
    "\n",
    "clean_value = jeopardy['Value'].apply(norm_val)\n",
    "jeopardy['clean_value'] = clean_value"
   ]
  },
  {
   "cell_type": "code",
   "execution_count": 99,
   "metadata": {
    "collapsed": false
   },
   "outputs": [],
   "source": [
    "#Converting Air Date column to datetime\n",
    "jeopardy['AirDate'] = pd.to_datetime(jeopardy['Air Date'])"
   ]
  },
  {
   "cell_type": "markdown",
   "metadata": {},
   "source": [
    "# Analysing questions and answers to: #\n",
    "Answer the following questions :- \n",
    "- How often the answer can be used for a question?\n",
    "- How often questions are repeated?"
   ]
  },
  {
   "cell_type": "markdown",
   "metadata": {},
   "source": [
    "### How often the answer can be used for a question? ###\n"
   ]
  },
  {
   "cell_type": "code",
   "execution_count": 100,
   "metadata": {
    "collapsed": false
   },
   "outputs": [
    {
     "name": "stdout",
     "output_type": "stream",
     "text": [
      "mean of answers in question 0.05358149761744942\n"
     ]
    }
   ],
   "source": [
    "clean_answer = clean_answer.str.replace('the ','')\n",
    "clean_answer = clean_answer.str.replace(' & ','')\n",
    "jeopardy['clean_question'] = clean_question\n",
    "jeopardy['clean_answer'] = clean_answer\n",
    "split_answer = clean_answer.str.split(' ')\n",
    "split_question = clean_question.str.split(' ')\n",
    "\n",
    "answer_in_q = []\n",
    "jeopardy['split_answer'] = split_answer\n",
    "jeopardy['split_question'] = split_question\n",
    "\n",
    "def match(row):\n",
    "    match_count = 0\n",
    "    if len(row['split_answer'])==0:\n",
    "        return 0\n",
    "    for item in row['split_answer']:\n",
    "         if item in row['split_question']:\n",
    "                match_count += 1\n",
    "    return (match_count/len(row['split_answer']))\n",
    "        \n",
    "\n",
    "jeopardy['answer_in_question'] = jeopardy.apply(match,axis=1)\n",
    "mean_answer_in_q = jeopardy['answer_in_question'].mean()\n",
    "print('mean of answers in question',mean_answer_in_q)"
   ]
  },
  {
   "cell_type": "code",
   "execution_count": 101,
   "metadata": {
    "collapsed": false,
    "scrolled": true
   },
   "outputs": [
    {
     "data": {
      "text/html": [
       "<div>\n",
       "<style scoped>\n",
       "    .dataframe tbody tr th:only-of-type {\n",
       "        vertical-align: middle;\n",
       "    }\n",
       "\n",
       "    .dataframe tbody tr th {\n",
       "        vertical-align: top;\n",
       "    }\n",
       "\n",
       "    .dataframe thead th {\n",
       "        text-align: right;\n",
       "    }\n",
       "</style>\n",
       "<table border=\"1\" class=\"dataframe\">\n",
       "  <thead>\n",
       "    <tr style=\"text-align: right;\">\n",
       "      <th></th>\n",
       "      <th>Show Number</th>\n",
       "      <th>Air Date</th>\n",
       "      <th>Round</th>\n",
       "      <th>Category</th>\n",
       "      <th>Value</th>\n",
       "      <th>Question</th>\n",
       "      <th>Answer</th>\n",
       "      <th>clean_value</th>\n",
       "      <th>AirDate</th>\n",
       "      <th>clean_question</th>\n",
       "      <th>clean_answer</th>\n",
       "      <th>split_answer</th>\n",
       "      <th>split_question</th>\n",
       "      <th>answer_in_question</th>\n",
       "    </tr>\n",
       "  </thead>\n",
       "  <tbody>\n",
       "    <tr>\n",
       "      <th>14</th>\n",
       "      <td>4680</td>\n",
       "      <td>2004-12-31</td>\n",
       "      <td>Jeopardy!</td>\n",
       "      <td>EVERYBODY TALKS ABOUT IT...</td>\n",
       "      <td>$600</td>\n",
       "      <td>On June 28, 1994 the nat'l weather service began issuing this index that rates the intensity of the sun's radiation</td>\n",
       "      <td>the UV index</td>\n",
       "      <td>600</td>\n",
       "      <td>2004-12-31</td>\n",
       "      <td>on june 28 1994 the natl weather service began issuing this index that rates the intensity of the suns radiation</td>\n",
       "      <td>uv index</td>\n",
       "      <td>[uv, index]</td>\n",
       "      <td>[on, june, 28, 1994, the, natl, weather, service, began, issuing, this, index, that, rates, the, intensity, of, the, suns, radiation]</td>\n",
       "      <td>0.5</td>\n",
       "    </tr>\n",
       "    <tr>\n",
       "      <th>24</th>\n",
       "      <td>4680</td>\n",
       "      <td>2004-12-31</td>\n",
       "      <td>Jeopardy!</td>\n",
       "      <td>HISTORY</td>\n",
       "      <td>$1000</td>\n",
       "      <td>This Asian political party was founded in 1885 with \"Indian National\" as part of its name</td>\n",
       "      <td>the Congress Party</td>\n",
       "      <td>1000</td>\n",
       "      <td>2004-12-31</td>\n",
       "      <td>this asian political party was founded in 1885 with indian national as part of its name</td>\n",
       "      <td>congress party</td>\n",
       "      <td>[congress, party]</td>\n",
       "      <td>[this, asian, political, party, was, founded, in, 1885, with, indian, national, as, part, of, its, name]</td>\n",
       "      <td>0.5</td>\n",
       "    </tr>\n",
       "    <tr>\n",
       "      <th>31</th>\n",
       "      <td>4680</td>\n",
       "      <td>2004-12-31</td>\n",
       "      <td>Double Jeopardy!</td>\n",
       "      <td>AIRLINE TRAVEL</td>\n",
       "      <td>$400</td>\n",
       "      <td>It can be a place to leave your puppy when you take a trip, or a carrier for him that fits under an airplane seat</td>\n",
       "      <td>a kennel</td>\n",
       "      <td>400</td>\n",
       "      <td>2004-12-31</td>\n",
       "      <td>it can be a place to leave your puppy when you take a trip or a carrier for him that fits under an airplane seat</td>\n",
       "      <td>a kennel</td>\n",
       "      <td>[a, kennel]</td>\n",
       "      <td>[it, can, be, a, place, to, leave, your, puppy, when, you, take, a, trip, or, a, carrier, for, him, that, fits, under, an, airplane, seat]</td>\n",
       "      <td>0.5</td>\n",
       "    </tr>\n",
       "    <tr>\n",
       "      <th>38</th>\n",
       "      <td>4680</td>\n",
       "      <td>2004-12-31</td>\n",
       "      <td>Double Jeopardy!</td>\n",
       "      <td>MUSICAL TRAINS</td>\n",
       "      <td>$800</td>\n",
       "      <td>During the 1954-1955 Sun sessions, Elvis climbed aboard this train \"sixteen coaches long\"</td>\n",
       "      <td>the \"Mystery Train\"</td>\n",
       "      <td>800</td>\n",
       "      <td>2004-12-31</td>\n",
       "      <td>during the 1954-1955 sun sessions elvis climbed aboard this train sixteen coaches long</td>\n",
       "      <td>mystery train</td>\n",
       "      <td>[mystery, train]</td>\n",
       "      <td>[during, the, 1954-1955, sun, sessions, elvis, climbed, aboard, this, train, sixteen, coaches, long]</td>\n",
       "      <td>0.5</td>\n",
       "    </tr>\n",
       "    <tr>\n",
       "      <th>53</th>\n",
       "      <td>4680</td>\n",
       "      <td>2004-12-31</td>\n",
       "      <td>Double Jeopardy!</td>\n",
       "      <td>MUSICAL TRAINS</td>\n",
       "      <td>$2000</td>\n",
       "      <td>In 1961 James Brown announced \"all aboard\" for this train</td>\n",
       "      <td>\"Night Train\"</td>\n",
       "      <td>2000</td>\n",
       "      <td>2004-12-31</td>\n",
       "      <td>in 1961 james brown announced all aboard for this train</td>\n",
       "      <td>night train</td>\n",
       "      <td>[night, train]</td>\n",
       "      <td>[in, 1961, james, brown, announced, all, aboard, for, this, train]</td>\n",
       "      <td>0.5</td>\n",
       "    </tr>\n",
       "  </tbody>\n",
       "</table>\n",
       "</div>"
      ],
      "text/plain": [
       "    Show Number    Air Date             Round                     Category  \\\n",
       "14         4680  2004-12-31         Jeopardy!  EVERYBODY TALKS ABOUT IT...   \n",
       "24         4680  2004-12-31         Jeopardy!                      HISTORY   \n",
       "31         4680  2004-12-31  Double Jeopardy!               AIRLINE TRAVEL   \n",
       "38         4680  2004-12-31  Double Jeopardy!               MUSICAL TRAINS   \n",
       "53         4680  2004-12-31  Double Jeopardy!               MUSICAL TRAINS   \n",
       "\n",
       "    Value  \\\n",
       "14   $600   \n",
       "24  $1000   \n",
       "31   $400   \n",
       "38   $800   \n",
       "53  $2000   \n",
       "\n",
       "                                                                                                               Question  \\\n",
       "14  On June 28, 1994 the nat'l weather service began issuing this index that rates the intensity of the sun's radiation   \n",
       "24                            This Asian political party was founded in 1885 with \"Indian National\" as part of its name   \n",
       "31    It can be a place to leave your puppy when you take a trip, or a carrier for him that fits under an airplane seat   \n",
       "38                            During the 1954-1955 Sun sessions, Elvis climbed aboard this train \"sixteen coaches long\"   \n",
       "53                                                            In 1961 James Brown announced \"all aboard\" for this train   \n",
       "\n",
       "                 Answer  clean_value    AirDate  \\\n",
       "14         the UV index          600 2004-12-31   \n",
       "24   the Congress Party         1000 2004-12-31   \n",
       "31             a kennel          400 2004-12-31   \n",
       "38  the \"Mystery Train\"          800 2004-12-31   \n",
       "53        \"Night Train\"         2000 2004-12-31   \n",
       "\n",
       "                                                                                                      clean_question  \\\n",
       "14  on june 28 1994 the natl weather service began issuing this index that rates the intensity of the suns radiation   \n",
       "24                           this asian political party was founded in 1885 with indian national as part of its name   \n",
       "31  it can be a place to leave your puppy when you take a trip or a carrier for him that fits under an airplane seat   \n",
       "38                            during the 1954-1955 sun sessions elvis climbed aboard this train sixteen coaches long   \n",
       "53                                                           in 1961 james brown announced all aboard for this train   \n",
       "\n",
       "      clean_answer       split_answer  \\\n",
       "14        uv index        [uv, index]   \n",
       "24  congress party  [congress, party]   \n",
       "31        a kennel        [a, kennel]   \n",
       "38   mystery train   [mystery, train]   \n",
       "53     night train     [night, train]   \n",
       "\n",
       "                                                                                                                                split_question  \\\n",
       "14       [on, june, 28, 1994, the, natl, weather, service, began, issuing, this, index, that, rates, the, intensity, of, the, suns, radiation]   \n",
       "24                                    [this, asian, political, party, was, founded, in, 1885, with, indian, national, as, part, of, its, name]   \n",
       "31  [it, can, be, a, place, to, leave, your, puppy, when, you, take, a, trip, or, a, carrier, for, him, that, fits, under, an, airplane, seat]   \n",
       "38                                        [during, the, 1954-1955, sun, sessions, elvis, climbed, aboard, this, train, sixteen, coaches, long]   \n",
       "53                                                                          [in, 1961, james, brown, announced, all, aboard, for, this, train]   \n",
       "\n",
       "    answer_in_question  \n",
       "14                 0.5  \n",
       "24                 0.5  \n",
       "31                 0.5  \n",
       "38                 0.5  \n",
       "53                 0.5  "
      ]
     },
     "execution_count": 101,
     "metadata": {},
     "output_type": "execute_result"
    }
   ],
   "source": [
    "#checking if the matches returned are correct\n",
    "pd.options.display.max_colwidth = 200\n",
    "jeopardy[jeopardy['answer_in_question'] >0].head(5)\n"
   ]
  },
  {
   "cell_type": "markdown",
   "metadata": {},
   "source": [
    "## Are the questions likely to have the answers in them? ##\n",
    "\n",
    "Around 5.3% of the answers in the dataset occur in the questions. This tells us that **we cannot reply on the probability that the questions themselves will contain the answers in them**. We will have to study."
   ]
  },
  {
   "cell_type": "markdown",
   "metadata": {},
   "source": [
    "## How often questions are repeated? ##"
   ]
  },
  {
   "cell_type": "code",
   "execution_count": 102,
   "metadata": {
    "collapsed": false
   },
   "outputs": [],
   "source": [
    "#sort the dataset in ascending order by date\n",
    "\n",
    "jeopardy.sort_values(by='Air Date')\n",
    "questions_overlap = []\n",
    "terms_used = set()\n",
    "\n",
    "def six_char(row):\n",
    "    n_row = []\n",
    "    match_count = 0\n",
    "    for item in row:\n",
    "        if len(item) > 5:\n",
    "            n_row.append(item)\n",
    "            if item in terms_used:\n",
    "                match_count += 1\n",
    "            terms_used.add(item)\n",
    "    if len(n_row) > 0:\n",
    "        questions_overlap.append(match_count/len(n_row))\n",
    "    else:\n",
    "        questions_overlap.append(0)\n",
    "    return n_row\n",
    "\n",
    "jeopardy['split_question_six'] = jeopardy['split_question'].apply(six_char)\n",
    "jeopardy['question_overlap'] = questions_overlap "
   ]
  },
  {
   "cell_type": "code",
   "execution_count": 103,
   "metadata": {
    "collapsed": false
   },
   "outputs": [
    {
     "name": "stdout",
     "output_type": "stream",
     "text": [
      "The mean of question overlap is: 0.6763215188342797\n"
     ]
    }
   ],
   "source": [
    "mean_questions = jeopardy['question_overlap'].mean()\n",
    "print('The mean of question overlap is:', mean_questions)"
   ]
  },
  {
   "cell_type": "markdown",
   "metadata": {},
   "source": [
    "### So are questions Recycled?  ###\n",
    "\n",
    "67% of the questions are recycled. Since we have only used large terms to check, this doesn't mean much but it does give us incentive to dig deeper."
   ]
  },
  {
   "cell_type": "code",
   "execution_count": 104,
   "metadata": {
    "collapsed": false
   },
   "outputs": [],
   "source": [
    "def hlvalue(row):\n",
    "    value = 0\n",
    "    if row['clean_value'] > 800:\n",
    "        value = 1\n",
    "    else:\n",
    "        value = 0\n",
    "    return value\n",
    "\n",
    "jeopardy['high_value']= jeopardy.apply(hlvalue, axis = 1)\n",
    "    "
   ]
  },
  {
   "cell_type": "code",
   "execution_count": 105,
   "metadata": {
    "collapsed": true
   },
   "outputs": [],
   "source": [
    "def hlcount(word):\n",
    "    global high_count\n",
    "    global low_count\n",
    "    high_count = 0\n",
    "    low_count= 0\n",
    "    for i,row in jeopardy.iterrows():\n",
    "        if word[0] in row['split_question']:\n",
    "            if row['high_value']==1:\n",
    "                high_count += 1\n",
    "            else:\n",
    "                low_count += 1\n",
    "    return high_count,low_count\n"
   ]
  },
  {
   "cell_type": "code",
   "execution_count": 106,
   "metadata": {
    "collapsed": false
   },
   "outputs": [],
   "source": [
    "import random\n",
    "comparison_terms = []\n",
    "for i in range(0,10):\n",
    "     comparison_terms.append(random.sample(terms_used,1))\n",
    "observed_expected = []\n",
    "\n",
    "for word in comparison_terms:\n",
    "    observed_expected.append(hlcount(word))\n",
    "        "
   ]
  },
  {
   "cell_type": "code",
   "execution_count": 107,
   "metadata": {
    "collapsed": false
   },
   "outputs": [
    {
     "name": "stdout",
     "output_type": "stream",
     "text": [
      "[(0, 1), (0, 4), (2, 1), (0, 1), (2, 4), (0, 1), (1, 2), (0, 1), (0, 2), (0, 1)]\n"
     ]
    }
   ],
   "source": [
    "print(observed_expected)"
   ]
  },
  {
   "cell_type": "code",
   "execution_count": 108,
   "metadata": {
    "collapsed": false
   },
   "outputs": [],
   "source": [
    "high_value_count = jeopardy[jeopardy['high_value']==1].shape[0]\n",
    "low_value_count = jeopardy[jeopardy['high_value']==0].shape[0]"
   ]
  },
  {
   "cell_type": "code",
   "execution_count": 109,
   "metadata": {
    "collapsed": false
   },
   "outputs": [],
   "source": [
    "from scipy.stats import chisquare\n",
    "import numpy as np\n",
    "chi_squared = []\n",
    "for i in observed_expected:\n",
    "    lis_i = list(i)\n",
    "    total_prop = sum(lis_i)/jeopardy.shape[0]\n",
    "    obs = np.array([lis_i[0], lis_i[1]])\n",
    "    h_tp = total_prop * high_value_count\n",
    "    l_tp = total_prop * low_value_count\n",
    "    exp = np.array([h_tp,l_tp])\n",
    "    chi_squared.append(chisquare(obs,exp))\n",
    "    "
   ]
  },
  {
   "cell_type": "code",
   "execution_count": 110,
   "metadata": {
    "collapsed": false
   },
   "outputs": [
    {
     "name": "stdout",
     "output_type": "stream",
     "text": [
      "[Power_divergenceResult(statistic=0.401962846126884, pvalue=0.5260772985705469), Power_divergenceResult(statistic=1.607851384507536, pvalue=0.20479409439225948), Power_divergenceResult(statistic=2.1177104383031944, pvalue=0.14560406868264344), Power_divergenceResult(statistic=0.401962846126884, pvalue=0.5260772985705469), Power_divergenceResult(statistic=0.06376233446880725, pvalue=0.8006453026878781), Power_divergenceResult(statistic=0.401962846126884, pvalue=0.5260772985705469), Power_divergenceResult(statistic=0.03188116723440362, pvalue=0.8582887163235293), Power_divergenceResult(statistic=0.401962846126884, pvalue=0.5260772985705469), Power_divergenceResult(statistic=0.803925692253768, pvalue=0.3699222378079571), Power_divergenceResult(statistic=0.401962846126884, pvalue=0.5260772985705469)]\n"
     ]
    }
   ],
   "source": [
    "print(chi_squared)"
   ]
  },
  {
   "cell_type": "markdown",
   "metadata": {},
   "source": [
    "# Conclusion #\n",
    "\n",
    "None of the terms had a significant difference in usage between high value and low value rows.The p-values being higher than 0.05 tells us that the results are statistically insignificant and we can reject the hypothesis that some terms are used more in high value counts or low value counts."
   ]
  },
  {
   "cell_type": "code",
   "execution_count": null,
   "metadata": {
    "collapsed": true
   },
   "outputs": [],
   "source": []
  }
 ],
 "metadata": {
  "kernelspec": {
   "display_name": "Python 3",
   "language": "python",
   "name": "python3"
  },
  "language_info": {
   "codemirror_mode": {
    "name": "ipython",
    "version": 3
   },
   "file_extension": ".py",
   "mimetype": "text/x-python",
   "name": "python",
   "nbconvert_exporter": "python",
   "pygments_lexer": "ipython3",
   "version": "3.4.3"
  }
 },
 "nbformat": 4,
 "nbformat_minor": 0
}
